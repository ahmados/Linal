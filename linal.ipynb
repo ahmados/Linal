{
 "cells": [
  {
   "cell_type": "code",
   "execution_count": 2,
   "metadata": {
    "collapsed": true
   },
   "outputs": [],
   "source": [
    "import numpy as np"
   ]
  },
  {
   "cell_type": "markdown",
   "metadata": {},
   "source": [
    "## Problem 1"
   ]
  },
  {
   "cell_type": "markdown",
   "metadata": {},
   "source": [
    "$$A =\n",
    "\\begin{pmatrix}\n",
    "    -2 & -1 & -3\\\\\n",
    "    11 & 10 & 0\\\\\n",
    "    -4 & -2 & -7\\\\\n",
    "    31 & 29 & -3\\\\\n",
    "\\end{pmatrix}$$"
   ]
  },
  {
   "cell_type": "code",
   "execution_count": 57,
   "metadata": {
    "collapsed": true
   },
   "outputs": [],
   "source": [
    "A = np.array(((-2, -1, -3), (11, 10, 0), (-4, 2, 7), (31, 29, -3)))"
   ]
  },
  {
   "cell_type": "code",
   "execution_count": 58,
   "metadata": {},
   "outputs": [
    {
     "data": {
      "text/plain": [
       "array([[-2, -1, -3],\n",
       "       [11, 10,  0],\n",
       "       [-4,  2,  7],\n",
       "       [31, 29, -3]])"
      ]
     },
     "execution_count": 58,
     "metadata": {},
     "output_type": "execute_result"
    }
   ],
   "source": [
    "A"
   ]
  },
  {
   "cell_type": "code",
   "execution_count": 59,
   "metadata": {},
   "outputs": [
    {
     "data": {
      "text/plain": [
       "array([[-2, -1, -3],\n",
       "       [11, 10,  0],\n",
       "       [-4,  2,  7]])"
      ]
     },
     "execution_count": 59,
     "metadata": {},
     "output_type": "execute_result"
    }
   ],
   "source": [
    "A[:3]"
   ]
  },
  {
   "cell_type": "code",
   "execution_count": 60,
   "metadata": {},
   "outputs": [
    {
     "data": {
      "text/plain": [
       "-248.99999999999994"
      ]
     },
     "execution_count": 60,
     "metadata": {},
     "output_type": "execute_result"
    }
   ],
   "source": [
    "np.linalg.det(A[:3])"
   ]
  },
  {
   "cell_type": "markdown",
   "metadata": {},
   "source": [
    "We have \n",
    "\\begin{vmatrix}\n",
    "-2 & -1 & -3 \\\\ \n",
    "11 & 10 & 0 \\\\ \n",
    "-4 & -2 & -7 \\\\ \n",
    "\\notag\n",
    "\\end{vmatrix}\n",
    "isn't zero, so A is already full column rank 3"
   ]
  },
  {
   "cell_type": "code",
   "execution_count": 61,
   "metadata": {
    "collapsed": true
   },
   "outputs": [],
   "source": [
    "def pseudoinverse(A):\n",
    "    return (np.linalg.inv(A.T @ A) @ A.T)"
   ]
  },
  {
   "cell_type": "code",
   "execution_count": 62,
   "metadata": {},
   "outputs": [
    {
     "name": "stdout",
     "output_type": "stream",
     "text": [
      "Pseudoinverse is shown below:\n",
      "\n",
      "[[-0.25447244  0.07594012 -0.12048193 -0.02665206]\n",
      " [ 0.25264695 -0.06535232  0.13253012  0.05659   ]\n",
      " [-0.21759766  0.06206645  0.03614458 -0.03139832]]\n"
     ]
    }
   ],
   "source": [
    "print(\"Pseudoinverse is shown below:\\n\")\n",
    "print(pseudoinverse(A))"
   ]
  },
  {
   "cell_type": "markdown",
   "metadata": {},
   "source": [
    "## Problem 2"
   ]
  },
  {
   "cell_type": "markdown",
   "metadata": {},
   "source": [
    "### SVD matrix decomposition"
   ]
  },
  {
   "cell_type": "code",
   "execution_count": 9,
   "metadata": {
    "collapsed": true
   },
   "outputs": [],
   "source": [
    "def svd(a):\n",
    "    if a.shape[0] >= a.shape[1]:\n",
    "        m = a @ a.T\n",
    "        s, u = np.linalg.eig(m)\n",
    "        s = np.diagflat(np.append(s, [0]))\n",
    "        for i in range(len(s)):\n",
    "            if (s[i][i] == 0):\n",
    "                s = s[:i, :i]\n",
    "                u = u[:, :i]\n",
    "        s_inv = s.copy()\n",
    "        for i in range(len(s)):\n",
    "            s_inv[i][i] = s_inv[i][i] ** (-1)\n",
    "        v = s_inv @ u.T @ a\n",
    "        return u, s, v\n",
    "\n",
    "    m = a.T @ a\n",
    "    s, v = np.linalg.eig(m)\n",
    "    s = np.diagflat(np.append(s, [0]))\n",
    "    for i in range(len(s)):\n",
    "        if (s[i][i] == 0):\n",
    "            s = s[:i, :i]\n",
    "            v = v[:i,:]\n",
    "    s_inv = s.copy()\n",
    "    for i in range(len(s)):\n",
    "        s_inv[i][i] = s_inv[i][i] ** (-1)\n",
    "    u = s_inv @ v.T @ a\n",
    "    return u, s, v"
   ]
  },
  {
   "cell_type": "code",
   "execution_count": 24,
   "metadata": {},
   "outputs": [],
   "source": [
    "B = np.array(((2, 1, 0), (1, 1, 0), (0, 1, 1), (1, 0, -1)))"
   ]
  },
  {
   "cell_type": "code",
   "execution_count": 25,
   "metadata": {},
   "outputs": [],
   "source": [
    "U, S, V = svd(B)"
   ]
  },
  {
   "cell_type": "markdown",
   "metadata": {},
   "source": [
    "#### S is a matrix with singular values on main diagonal"
   ]
  },
  {
   "cell_type": "code",
   "execution_count": 26,
   "metadata": {},
   "outputs": [
    {
     "name": "stdout",
     "output_type": "stream",
     "text": [
      "[[  7.87298335e+00   0.00000000e+00   0.00000000e+00   0.00000000e+00]\n",
      " [  0.00000000e+00   1.27016654e-01   0.00000000e+00   0.00000000e+00]\n",
      " [  0.00000000e+00   0.00000000e+00   4.44089210e-16   0.00000000e+00]\n",
      " [  0.00000000e+00   0.00000000e+00   0.00000000e+00   3.00000000e+00]]\n"
     ]
    }
   ],
   "source": [
    "print(S)"
   ]
  },
  {
   "cell_type": "markdown",
   "metadata": {},
   "source": [
    "#### Computing accuracy of our SVD:"
   ]
  },
  {
   "cell_type": "code",
   "execution_count": 27,
   "metadata": {},
   "outputs": [
    {
     "name": "stdout",
     "output_type": "stream",
     "text": [
      "[[  2.00000000e+00   1.00000000e+00  -5.55111512e-17]\n",
      " [  1.00000000e+00   1.00000000e+00  -1.11022302e-16]\n",
      " [  5.55111512e-17   1.00000000e+00   1.00000000e+00]\n",
      " [  1.00000000e+00   5.55111512e-17  -1.00000000e+00]]\n",
      "-5.55111512313e-17\n"
     ]
    }
   ],
   "source": [
    "print(U @ S @ V)\n",
    "print(np.sum(U @ S @ V - B))"
   ]
  },
  {
   "cell_type": "markdown",
   "metadata": {},
   "source": [
    "Pseudoinverse of B using SVD decomposition:"
   ]
  },
  {
   "cell_type": "code",
   "execution_count": 31,
   "metadata": {},
   "outputs": [],
   "source": [
    "B_inverse = np.transpose(V) @ np.linalg.inv(S) @ np.transpose(U)"
   ]
  },
  {
   "cell_type": "code",
   "execution_count": 32,
   "metadata": {},
   "outputs": [
    {
     "data": {
      "text/plain": [
       "array([[  6.20519176e+00,  -3.51008885e+14,   3.51008885e+14,\n",
       "          3.51008885e+14],\n",
       "       [ -8.81000115e+00,  -3.25019307e+14,   3.25019307e+14,\n",
       "          3.25019307e+14],\n",
       "       [  8.56999655e+00,  -9.75057921e+14,   9.75057921e+14,\n",
       "          9.75057921e+14]])"
      ]
     },
     "execution_count": 32,
     "metadata": {},
     "output_type": "execute_result"
    }
   ],
   "source": [
    "B_inverse"
   ]
  },
  {
   "cell_type": "markdown",
   "metadata": {},
   "source": [
    "## Problem 3"
   ]
  },
  {
   "cell_type": "markdown",
   "metadata": {},
   "source": [
    "$$ Cx = b $$"
   ]
  },
  {
   "cell_type": "code",
   "execution_count": 33,
   "metadata": {
    "collapsed": true
   },
   "outputs": [],
   "source": [
    "C = np.array(((1, -2, -1, 0), (7, 5, 0, -2), (-1, -1, 1, 1), (22, 13, -1, -8)))"
   ]
  },
  {
   "cell_type": "code",
   "execution_count": 34,
   "metadata": {},
   "outputs": [
    {
     "name": "stdout",
     "output_type": "stream",
     "text": [
      "[[ 1 -2 -1  0]\n",
      " [ 7  5  0 -2]\n",
      " [-1 -1  1  1]\n",
      " [22 13 -1 -8]]\n"
     ]
    }
   ],
   "source": [
    "print(C)"
   ]
  },
  {
   "cell_type": "code",
   "execution_count": 35,
   "metadata": {
    "collapsed": true
   },
   "outputs": [],
   "source": [
    "b = np.array((-1, 5, -1, 15))"
   ]
  },
  {
   "cell_type": "code",
   "execution_count": 36,
   "metadata": {},
   "outputs": [
    {
     "data": {
      "text/plain": [
       "-42.000000000000007"
      ]
     },
     "execution_count": 36,
     "metadata": {},
     "output_type": "execute_result"
    }
   ],
   "source": [
    "np.linalg.det(C)"
   ]
  },
  {
   "cell_type": "markdown",
   "metadata": {},
   "source": [
    "#### As determinant is nonzero, the matrix is invertible, so best solution is $$ x = C^{-1} * b $$"
   ]
  },
  {
   "cell_type": "code",
   "execution_count": 37,
   "metadata": {
    "collapsed": true
   },
   "outputs": [],
   "source": [
    "x = np.linalg.inv(C) @ b"
   ]
  },
  {
   "cell_type": "code",
   "execution_count": 40,
   "metadata": {},
   "outputs": [
    {
     "data": {
      "text/plain": [
       "array([ -1.,   5.,  -1.,  15.])"
      ]
     },
     "execution_count": 40,
     "metadata": {},
     "output_type": "execute_result"
    }
   ],
   "source": [
    "C @ x"
   ]
  },
  {
   "cell_type": "markdown",
   "metadata": {},
   "source": [
    "$$ x = \\frac{3}{14}, y = \\frac{1}{2}, z = \\frac{3}{14}, t = \\frac{1}{2} $$"
   ]
  },
  {
   "cell_type": "code",
   "execution_count": null,
   "metadata": {
    "collapsed": true
   },
   "outputs": [],
   "source": []
  },
  {
   "cell_type": "markdown",
   "metadata": {},
   "source": [
    "## Problem 4"
   ]
  },
  {
   "cell_type": "code",
   "execution_count": 42,
   "metadata": {
    "collapsed": true
   },
   "outputs": [],
   "source": [
    "from random import random\n",
    "import matplotlib.pyplot as pl\n",
    "from math import pi, sin\n",
    "\n",
    "def graph(deg):\n",
    "    data = np.array([[1937, 0],\n",
    "                    [1949, 0],\n",
    "                    [1950, -1],\n",
    "                    [1951, -6],\n",
    "                    [1952, -1],\n",
    "                    [1953, -3],\n",
    "                    [1954, -2],\n",
    "                    [1956, -4],\n",
    "                    [1957, -1],\n",
    "                    [1959, -5],\n",
    "                    [1960, -4],\n",
    "                    [1962, 1],\n",
    "                    [1963, 0],\n",
    "                    [1964, -2],\n",
    "                    [1965, -6],\n",
    "                    [1966, -1],\n",
    "                    [1967, 1],\n",
    "                    [1968, -3],\n",
    "                    [1969, 2],\n",
    "                    [1970, -2],\n",
    "                    [1973, -2],\n",
    "                    [1974, 2],\n",
    "                    [1975, -3],\n",
    "                    [1976, -1],\n",
    "                    [1977, 2],\n",
    "                    [1978, 2],\n",
    "                    [1979, -1],\n",
    "                    [1980, -2],\n",
    "                    [1981, -1],\n",
    "                    [1982, 2],\n",
    "                    [1983, -2],\n",
    "                    [1984, -4],\n",
    "                    [1985, -3],\n",
    "                    [1986, 0],\n",
    "                    [1988, -4],\n",
    "                    [1989, -3],\n",
    "                    [1990, 0],\n",
    "                    [1991, 1],\n",
    "                    [1992, -3],\n",
    "                    [1993, -8],\n",
    "                    [1994, -3],\n",
    "                    [1995, -3],\n",
    "                    [1996, 4],\n",
    "                    [1997, -1],\n",
    "                    [1998, -8],\n",
    "                    [1999, -5],\n",
    "                    [2000, 0],\n",
    "                    [2001, -1],\n",
    "                    [2002, -2],\n",
    "                    [2003, 1],\n",
    "                    [2004, -2],\n",
    "                    [2005, 1],\n",
    "                    [2006, 1],\n",
    "                    [2007, -2],\n",
    "                    [2008, 2],\n",
    "                    [2009, 2],\n",
    "                    [2010, 3],\n",
    "                    [2011, 0],\n",
    "                    [2012, 2],\n",
    "                    [2013, 4],\n",
    "                    [2014, -1],\n",
    "                    [2015, 1],])\n",
    "    x_data = data[ : ,0]\n",
    "    y_train = data[ : ,1]\n",
    "    x_train = np.zeros((0, len(x_data)))\n",
    "    for d in range(deg):\n",
    "        x_temp = x_data\n",
    "        x_temp = x_temp ** float(d)\n",
    "        x_train = np.vstack((x_temp, x_train))\n",
    "    list_coord = np.linalg.inv(x_train @ np.transpose(x_train)) @ x_train @ np.transpose(y_train)\n",
    "\n",
    "    \n",
    "    pl.figure(figsize=(8, 5))\n",
    "    pl.grid(True)\n",
    "    pl.title('Linear Regression')\n",
    "\n",
    "    def line(x):\n",
    "        ans = 0\n",
    "        d = deg - 1\n",
    "        for wi in list_coord:\n",
    "            ans += wi * x ** float(d)\n",
    "            d -= 1\n",
    "        return ans\n",
    "\n",
    "    pl.plot(x_data, [line(x) for x in x_data], color='green', linewidth=2, alpha=0.3)\n",
    "    pl.scatter(x_train[deg - 2, :], y_train, s=80, color='blue', alpha=0.3)\n",
    "    pl.show()\n",
    "    return line(2017)"
   ]
  },
  {
   "cell_type": "code",
   "execution_count": 49,
   "metadata": {},
   "outputs": [
    {
     "data": {
      "image/png": "[encoded data removed]",
      "text/plain": [
       "<matplotlib.figure.Figure at 0x1109b3278>"
      ]
     },
     "metadata": {},
     "output_type": "display_data"
    },
    {
     "name": "stdout",
     "output_type": "stream",
     "text": [
      "1.144881346\n"
     ]
    },
    {
     "data": {
      "image/png": "[encoded data removed]",
      "text/plain": [
       "<matplotlib.figure.Figure at 0x1115d9da0>"
      ]
     },
     "metadata": {},
     "output_type": "display_data"
    },
    {
     "name": "stdout",
     "output_type": "stream",
     "text": [
      "2.23835615756\n"
     ]
    },
    {
     "data": {
      "image/png": "[encoded data removed]",
      "text/plain": [
       "<matplotlib.figure.Figure at 0x111707fd0>"
      ]
     },
     "metadata": {},
     "output_type": "display_data"
    },
    {
     "name": "stdout",
     "output_type": "stream",
     "text": [
      "2.29728997848\n"
     ]
    }
   ],
   "source": [
    "#real temp was +1.7 celsium\n",
    "min_diff = 100\n",
    "min_i = 0\n",
    "val_2017 = 0\n",
    "for i in range(3, 6):\n",
    "    val = graph(i)\n",
    "    print(val)"
   ]
  },
  {
   "cell_type": "markdown",
   "metadata": {},
   "source": [
    "## Problem 5"
   ]
  },
  {
   "cell_type": "markdown",
   "metadata": {},
   "source": [
    "$$A =\n",
    "\\begin{bmatrix}\n",
    "    0_{1,1} & 0_{1,2} & 0_{1,3} & \\dots  & 0_{1,10} \\\\\n",
    "    \\vdots & \\vdots & \\vdots & \\ddots & \\vdots \\\\\n",
    "    1_{5,1} & 0_{5,2} & \\dots  & 1_{5,9} & 0_{5, 10} \\\\\n",
    "    \\vdots & \\vdots & \\vdots & \\ddots & \\vdots \\\\\n",
    "    0_{9,1} & 0_{9,2} & 0_{9,3} & \\dots  & 0_{9,10} \\\\\n",
    "    0_{10,1} & 0_{10,2} & 0_{10,3} & \\dots  & 0_{10,10} \\\\\n",
    "\\end{bmatrix} = F \\cdot G = \n",
    "\\begin{bmatrix}\n",
    "    0_{1,1} \\\\\n",
    "    \\vdots \\\\\n",
    "    1_{5,1} \\\\\n",
    "    \\vdots \\\\\n",
    "    0_{9,1} \\\\\n",
    "    0_{10,1} \\\\\n",
    "\\end{bmatrix} \\cdot \n",
    "\\begin{bmatrix}\n",
    "    1_{1,1} & 0_{1,2} & \\dots & 1_{1, 9} & 0_{1,10} \\\\\n",
    "\\end{bmatrix}\n",
    "$$"
   ]
  },
  {
   "cell_type": "markdown",
   "metadata": {},
   "source": [
    "FORMULA FOR PSEUDOINVERSE OF FULL-RANK DECOMPOSITION:\n",
    "$$ A^{+} = G^{+} \\cdot F^{+} = G^{*} \\cdot (GG^{*})^{-1} \\cdot (F^{*}F)^{-1} \\cdot F^{*} $$"
   ]
  },
  {
   "cell_type": "code",
   "execution_count": 53,
   "metadata": {},
   "outputs": [
    {
     "name": "stdout",
     "output_type": "stream",
     "text": [
      "matrix A\n",
      " [[ 0.  0.  0.  0.  0.  0.  0.  0.  0.  0.]\n",
      " [ 0.  0.  0.  0.  0.  0.  0.  0.  0.  0.]\n",
      " [ 0.  0.  0.  0.  0.  0.  0.  0.  0.  0.]\n",
      " [ 0.  0.  0.  0.  0.  0.  0.  0.  0.  0.]\n",
      " [ 1.  0.  0.  0.  0.  0.  0.  0.  1.  0.]\n",
      " [ 0.  0.  0.  0.  0.  0.  0.  0.  0.  0.]\n",
      " [ 0.  0.  0.  0.  0.  0.  0.  0.  0.  0.]\n",
      " [ 0.  0.  0.  0.  0.  0.  0.  0.  0.  0.]\n",
      " [ 0.  0.  0.  0.  0.  0.  0.  0.  0.  0.]\n",
      " [ 0.  0.  0.  0.  0.  0.  0.  0.  0.  0.]] \n",
      " matrix FG\n",
      " [[ 0.  0.  0.  0.  0.  0.  0.  0.  0.  0.]\n",
      " [ 0.  0.  0.  0.  0.  0.  0.  0.  0.  0.]\n",
      " [ 0.  0.  0.  0.  0.  0.  0.  0.  0.  0.]\n",
      " [ 0.  0.  0.  0.  0.  0.  0.  0.  0.  0.]\n",
      " [ 1.  0.  0.  0.  0.  0.  0.  0.  1.  0.]\n",
      " [ 0.  0.  0.  0.  0.  0.  0.  0.  0.  0.]\n",
      " [ 0.  0.  0.  0.  0.  0.  0.  0.  0.  0.]\n",
      " [ 0.  0.  0.  0.  0.  0.  0.  0.  0.  0.]\n",
      " [ 0.  0.  0.  0.  0.  0.  0.  0.  0.  0.]\n",
      " [ 0.  0.  0.  0.  0.  0.  0.  0.  0.  0.]]\n"
     ]
    }
   ],
   "source": [
    "A = np.zeros((10, 10))\n",
    "A[4, 8] = 1\n",
    "A[4, 0] = 1\n",
    "F = np.zeros((10, 1))\n",
    "F[4,] = 1\n",
    "G = np.zeros((1, 10))\n",
    "G[0, 0] = 1\n",
    "G[0, 8] = 1\n",
    "print('matrix A\\n', A, '\\n', 'matrix FG\\n', F @ G)"
   ]
  },
  {
   "cell_type": "code",
   "execution_count": 55,
   "metadata": {},
   "outputs": [
    {
     "name": "stdout",
     "output_type": "stream",
     "text": [
      "[[ 0.   0.   0.   0.   0.5  0.   0.   0.   0.   0. ]\n",
      " [ 0.   0.   0.   0.   0.   0.   0.   0.   0.   0. ]\n",
      " [ 0.   0.   0.   0.   0.   0.   0.   0.   0.   0. ]\n",
      " [ 0.   0.   0.   0.   0.   0.   0.   0.   0.   0. ]\n",
      " [ 0.   0.   0.   0.   0.   0.   0.   0.   0.   0. ]\n",
      " [ 0.   0.   0.   0.   0.   0.   0.   0.   0.   0. ]\n",
      " [ 0.   0.   0.   0.   0.   0.   0.   0.   0.   0. ]\n",
      " [ 0.   0.   0.   0.   0.   0.   0.   0.   0.   0. ]\n",
      " [ 0.   0.   0.   0.   0.5  0.   0.   0.   0.   0. ]\n",
      " [ 0.   0.   0.   0.   0.   0.   0.   0.   0.   0. ]]\n"
     ]
    }
   ],
   "source": [
    "G_pseudoinverse = np.transpose(G) @ np.linalg.inv(G @ np.transpose(G))\n",
    "F_pseudoinverse = np.linalg.inv(np.transpose(F) @ F) @ np.transpose(F)\n",
    "A_pseudoinverse = G_pseudoinverse * F_pseudoinverse\n",
    "print(A_pseudoinverse)"
   ]
  },
  {
   "cell_type": "markdown",
   "metadata": {},
   "source": [
    "## Problem 6"
   ]
  },
  {
   "cell_type": "markdown",
   "metadata": {},
   "source": [
    "Given a set of $$ k + 1 $$ data points\n",
    "\n",
    "$$\n",
    "(x_{0},y_{0}),\\ldots ,(x_{j},y_{j}),\\ldots ,(x_{k},y_{k}) $$\n",
    "where no two $ x_{j} $ are the same, the interpolation polynomial in the Lagrange form is a linear combination\n",
    "\n",
    "$$\n",
    "L(x):=\\sum _{j=0}^{k}y_{j}\\ell _{j}(x)\n",
    "$$\n",
    "\n",
    "of Lagrange basis polynomials\n",
    "\n",
    "$$\n",
    "\\ell _{j}(x):=\\prod _{\\begin{smallmatrix}0\\leq m\\leq k\\\\m\\neq j\\end{smallmatrix}}{\\frac {x-x_{m}}{x_{j}-x_{m}}}={\\frac {(x-x_{0})}{(x_{j}-x_{0})}}\\cdots {\\frac {(x-x_{j-1})}{(x_{j}-x_{j-1})}}{\\frac {(x-x_{j+1})}{(x_{j}-x_{j+1})}}\\cdots {\\frac {(x-x_{k})}{(x_{j}-x_{k})}}, $$\n",
    "\n",
    "We have a set of (2 + 1) points:\n",
    "$$ (-3, -49),\\;\\;\\; (0, 2),\\;\\;\\;(5, 487) $$"
   ]
  },
  {
   "cell_type": "markdown",
   "metadata": {},
   "source": [
    "Then,\n",
    "\n",
    "$$ L(x) = -49 * \\ell _{0}(x) + 2 * \\ell _{1}(x) + 487 * \\ell _{2}(x) $$\n",
    "$$\\ell_{0}(x) = \\frac{1}{24} x(x - 5) $$\n",
    "\n",
    "$$\\ell_{1}(x) = -\\frac{1}{15} (x + 3)(x - 5)$$\n",
    "\n",
    "$$\\ell_{2}(x) = \\frac{1}{40} x(x + 3)$$\n",
    "\n",
    "Finally:\n",
    "\n",
    "$$ L(x) = -\\frac{49}{24} x(x - 5) - \\frac{2}{15} (x + 3)(x - 5) + \\frac{487}{40} x(x + 3) = 10x^{2} + 47x + 2$$"
   ]
  },
  {
   "cell_type": "markdown",
   "metadata": {},
   "source": [
    "Let's check our solution:"
   ]
  },
  {
   "cell_type": "code",
   "execution_count": 68,
   "metadata": {},
   "outputs": [
    {
     "name": "stdout",
     "output_type": "stream",
     "text": [
      "-3 -49\n",
      "0 2\n",
      "5 487\n"
     ]
    }
   ],
   "source": [
    "def pol(x):\n",
    "    return (10 * x ** 2 + 47 * x + 2)\n",
    "print(-3, pol(-3))\n",
    "print(0, pol(0))\n",
    "print(5, pol(5))"
   ]
  },
  {
   "cell_type": "markdown",
   "metadata": {},
   "source": [
    "## Problem 7"
   ]
  },
  {
   "cell_type": "markdown",
   "metadata": {},
   "source": [
    "\n",
    "$$ \\large S^{n}=\\left\\{x\\in \\mathbb {R} ^{n+1}:\\left\\|x\\right\\|<=r\\right\\}. $$"
   ]
  },
  {
   "cell_type": "markdown",
   "metadata": {},
   "source": [
    "Let metrics be\n",
    "$$ \n",
    "\\left\\|x\\right\\| = \\sqrt{\\frac{5x^{2} + 6xy + 5y^{2}}{72}}\n",
    "$$\n",
    "\n",
    "It is metrics because $$\\;\\; \\sqrt{5x^{2} + 6xy + 5y^{2}} = \\sqrt{s^{2} + t^{2}} \\;\\;$$ for  $$ s = (x\\sqrt{5} +..) \\text{  .....  } t = (y\\sqrt(5.76) + ..) $$ \n",
    "$ \\sqrt{s^{2} + t^{2}} $ is Euclidean distance.\n",
    "\n",
    "\n",
    "\n",
    "Then $$ \\left\\{(x, y)\\in \\mathbb {R} ^{2}: 90x^{2} + 108xy + 90y^{2}<=1296\\right\\} $$ is a unit ball, because\n",
    "$$ 90x^{2} + 108xy + 90y^{2} = (\\sqrt{\\frac{5x^{2} + 6xy + 5y^{2}}{72}})^{2} * 1296 $$\n",
    "\n",
    "The norm of our vector is \n",
    "$$ \\nu(\\begin{bmatrix}\n",
    "           9 \\\\\n",
    "           -1 \\\\\n",
    "         \\end{bmatrix}) = \\sqrt{\\frac{405 - 54 + 5}{72}} = \\sqrt{\\frac{356}{72}} = \\sqrt{\\frac{89}{18}} $$"
   ]
  },
  {
   "cell_type": "code",
   "execution_count": null,
   "metadata": {
    "collapsed": true
   },
   "outputs": [],
   "source": []
  }
 ],
 "metadata": {
  "kernelspec": {
   "display_name": "Python 3",
   "language": "python",
   "name": "python3"
  },
  "language_info": {
   "codemirror_mode": {
    "name": "ipython",
    "version": 3
   },
   "file_extension": ".py",
   "mimetype": "text/x-python",
   "name": "python",
   "nbconvert_exporter": "python",
   "pygments_lexer": "ipython3",
   "version": "3.6.1"
  }
 },
 "nbformat": 4,
 "nbformat_minor": 2
}
